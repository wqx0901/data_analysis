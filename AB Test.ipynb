{
 "cells": [
  {
   "cell_type": "markdown",
   "id": "82dfaba1-d5bd-49ad-b176-bf165524bb56",
   "metadata": {},
   "source": [
    "# A/B测试（A/B Testing）\n",
    "是一种通过对比两个或多个版本（如网页、功能、广告等）的效果，确定哪个版本更优的实验方法。其核心原理是随机分组和假设检验，通过统计学方法验证差异是否显著。"
   ]
  },
  {
   "cell_type": "markdown",
   "id": "436125f6-f576-46e0-9695-b3bc0d0ccc88",
   "metadata": {},
   "source": [
    "## 导入数据"
   ]
  },
  {
   "cell_type": "code",
   "execution_count": 64,
   "id": "5a541fbc-e039-4ded-bc63-cb3f0936a3b3",
   "metadata": {},
   "outputs": [],
   "source": [
    "import pandas as pd\n",
    "import numpy as np\n",
    "import matplotlib as mpl\n",
    "import matplotlib.pyplot as plt\n",
    "import seaborn as sns\n",
    "\n",
    "import scipy.stats as stats\n",
    "import statsmodels.stats.api as sms\n",
    "\n",
    "\n",
    "# 设置中文字体为 SimHei，并解决负号显示问题\n",
    "plt.rcParams['font.sans-serif'] = ['SimHei']\n",
    "plt.rcParams['axes.unicode_minus'] = False  # 显示负号"
   ]
  },
  {
   "cell_type": "code",
   "execution_count": 2,
   "id": "1fc08c5e-14a5-49b0-8817-65b2c8fce171",
   "metadata": {},
   "outputs": [],
   "source": [
    "import warnings\n",
    "warnings.filterwarnings('ignore', category=pd.errors.SettingWithCopyWarning)\n",
    "# 执行操作后恢复警告\n",
    "warnings.filterwarnings('default')"
   ]
  },
  {
   "cell_type": "code",
   "execution_count": 3,
   "id": "0eb65735-b6e6-4804-aa70-bff1d77f4ae1",
   "metadata": {},
   "outputs": [],
   "source": [
    "#导入数据\n",
    "df = pd.read_csv('ab_data.csv')"
   ]
  },
  {
   "cell_type": "code",
   "execution_count": 4,
   "id": "9de14c04-4dff-4908-829f-7a7e15c7aa7c",
   "metadata": {},
   "outputs": [
    {
     "data": {
      "text/html": [
       "<div>\n",
       "<style scoped>\n",
       "    .dataframe tbody tr th:only-of-type {\n",
       "        vertical-align: middle;\n",
       "    }\n",
       "\n",
       "    .dataframe tbody tr th {\n",
       "        vertical-align: top;\n",
       "    }\n",
       "\n",
       "    .dataframe thead th {\n",
       "        text-align: right;\n",
       "    }\n",
       "</style>\n",
       "<table border=\"1\" class=\"dataframe\">\n",
       "  <thead>\n",
       "    <tr style=\"text-align: right;\">\n",
       "      <th></th>\n",
       "      <th>user_id</th>\n",
       "      <th>timestamp</th>\n",
       "      <th>group</th>\n",
       "      <th>landing_page</th>\n",
       "      <th>converted</th>\n",
       "    </tr>\n",
       "  </thead>\n",
       "  <tbody>\n",
       "    <tr>\n",
       "      <th>0</th>\n",
       "      <td>851104</td>\n",
       "      <td>2017-01-21 22:11:48.556739</td>\n",
       "      <td>control</td>\n",
       "      <td>old_page</td>\n",
       "      <td>0</td>\n",
       "    </tr>\n",
       "    <tr>\n",
       "      <th>1</th>\n",
       "      <td>804228</td>\n",
       "      <td>2017-01-12 08:01:45.159739</td>\n",
       "      <td>control</td>\n",
       "      <td>old_page</td>\n",
       "      <td>0</td>\n",
       "    </tr>\n",
       "    <tr>\n",
       "      <th>2</th>\n",
       "      <td>661590</td>\n",
       "      <td>2017-01-11 16:55:06.154213</td>\n",
       "      <td>treatment</td>\n",
       "      <td>new_page</td>\n",
       "      <td>0</td>\n",
       "    </tr>\n",
       "    <tr>\n",
       "      <th>3</th>\n",
       "      <td>853541</td>\n",
       "      <td>2017-01-08 18:28:03.143765</td>\n",
       "      <td>treatment</td>\n",
       "      <td>new_page</td>\n",
       "      <td>0</td>\n",
       "    </tr>\n",
       "    <tr>\n",
       "      <th>4</th>\n",
       "      <td>864975</td>\n",
       "      <td>2017-01-21 01:52:26.210827</td>\n",
       "      <td>control</td>\n",
       "      <td>old_page</td>\n",
       "      <td>1</td>\n",
       "    </tr>\n",
       "  </tbody>\n",
       "</table>\n",
       "</div>"
      ],
      "text/plain": [
       "   user_id                   timestamp      group landing_page  converted\n",
       "0   851104  2017-01-21 22:11:48.556739    control     old_page          0\n",
       "1   804228  2017-01-12 08:01:45.159739    control     old_page          0\n",
       "2   661590  2017-01-11 16:55:06.154213  treatment     new_page          0\n",
       "3   853541  2017-01-08 18:28:03.143765  treatment     new_page          0\n",
       "4   864975  2017-01-21 01:52:26.210827    control     old_page          1"
      ]
     },
     "execution_count": 4,
     "metadata": {},
     "output_type": "execute_result"
    }
   ],
   "source": [
    "df.head()"
   ]
  },
  {
   "cell_type": "markdown",
   "id": "6381ef92-a478-4144-bee6-dac25487d72c",
   "metadata": {},
   "source": [
    "user_id:用户ID  \n",
    "timestamp:用户访问页面时间  \n",
    "group:用户分组情况【treatment-新；control-旧】  \n",
    "landing_page: 分到的页面，与group字段一一对应  \n",
    "converted:是否成功转化"
   ]
  },
  {
   "cell_type": "code",
   "execution_count": 5,
   "id": "3ab48fd3-7919-47d2-993a-d33c40382e61",
   "metadata": {},
   "outputs": [
    {
     "name": "stdout",
     "output_type": "stream",
     "text": [
      "<class 'pandas.core.frame.DataFrame'>\n",
      "RangeIndex: 294478 entries, 0 to 294477\n",
      "Data columns (total 5 columns):\n",
      " #   Column        Non-Null Count   Dtype \n",
      "---  ------        --------------   ----- \n",
      " 0   user_id       294478 non-null  int64 \n",
      " 1   timestamp     294478 non-null  object\n",
      " 2   group         294478 non-null  object\n",
      " 3   landing_page  294478 non-null  object\n",
      " 4   converted     294478 non-null  int64 \n",
      "dtypes: int64(2), object(3)\n",
      "memory usage: 11.2+ MB\n"
     ]
    }
   ],
   "source": [
    "df.info()"
   ]
  },
  {
   "cell_type": "code",
   "execution_count": 6,
   "id": "c7b6b274-160d-465b-aa74-00db7661f472",
   "metadata": {},
   "outputs": [
    {
     "data": {
      "text/plain": [
       "['user_id', 'timestamp', 'group', 'landing_page', 'converted']"
      ]
     },
     "execution_count": 6,
     "metadata": {},
     "output_type": "execute_result"
    }
   ],
   "source": [
    "df.columns.tolist()\n"
   ]
  },
  {
   "cell_type": "code",
   "execution_count": 7,
   "id": "f0aede5a-0670-4c51-80fb-86dcdf6bb98b",
   "metadata": {},
   "outputs": [
    {
     "data": {
      "text/plain": [
       "user_id         0\n",
       "timestamp       0\n",
       "group           0\n",
       "landing_page    0\n",
       "converted       0\n",
       "dtype: int64"
      ]
     },
     "execution_count": 7,
     "metadata": {},
     "output_type": "execute_result"
    }
   ],
   "source": [
    "df.isnull().sum()"
   ]
  },
  {
   "cell_type": "code",
   "execution_count": 40,
   "id": "e444e34f",
   "metadata": {},
   "outputs": [
    {
     "data": {
      "text/html": [
       "<div>\n",
       "<style scoped>\n",
       "    .dataframe tbody tr th:only-of-type {\n",
       "        vertical-align: middle;\n",
       "    }\n",
       "\n",
       "    .dataframe tbody tr th {\n",
       "        vertical-align: top;\n",
       "    }\n",
       "\n",
       "    .dataframe thead tr th {\n",
       "        text-align: left;\n",
       "    }\n",
       "\n",
       "    .dataframe thead tr:last-of-type th {\n",
       "        text-align: right;\n",
       "    }\n",
       "</style>\n",
       "<table border=\"1\" class=\"dataframe\">\n",
       "  <thead>\n",
       "    <tr>\n",
       "      <th></th>\n",
       "      <th colspan=\"8\" halign=\"left\">user_id</th>\n",
       "      <th colspan=\"8\" halign=\"left\">converted</th>\n",
       "    </tr>\n",
       "    <tr>\n",
       "      <th></th>\n",
       "      <th>count</th>\n",
       "      <th>mean</th>\n",
       "      <th>std</th>\n",
       "      <th>min</th>\n",
       "      <th>25%</th>\n",
       "      <th>50%</th>\n",
       "      <th>75%</th>\n",
       "      <th>max</th>\n",
       "      <th>count</th>\n",
       "      <th>mean</th>\n",
       "      <th>std</th>\n",
       "      <th>min</th>\n",
       "      <th>25%</th>\n",
       "      <th>50%</th>\n",
       "      <th>75%</th>\n",
       "      <th>max</th>\n",
       "    </tr>\n",
       "    <tr>\n",
       "      <th>group</th>\n",
       "      <th></th>\n",
       "      <th></th>\n",
       "      <th></th>\n",
       "      <th></th>\n",
       "      <th></th>\n",
       "      <th></th>\n",
       "      <th></th>\n",
       "      <th></th>\n",
       "      <th></th>\n",
       "      <th></th>\n",
       "      <th></th>\n",
       "      <th></th>\n",
       "      <th></th>\n",
       "      <th></th>\n",
       "      <th></th>\n",
       "      <th></th>\n",
       "    </tr>\n",
       "  </thead>\n",
       "  <tbody>\n",
       "    <tr>\n",
       "      <th>control</th>\n",
       "      <td>147202.0</td>\n",
       "      <td>788123.098035</td>\n",
       "      <td>91278.896888</td>\n",
       "      <td>630002.0</td>\n",
       "      <td>709287.0</td>\n",
       "      <td>788053.5</td>\n",
       "      <td>867155.50</td>\n",
       "      <td>945998.0</td>\n",
       "      <td>147202.0</td>\n",
       "      <td>0.120399</td>\n",
       "      <td>0.325429</td>\n",
       "      <td>0.0</td>\n",
       "      <td>0.0</td>\n",
       "      <td>0.0</td>\n",
       "      <td>0.0</td>\n",
       "      <td>1.0</td>\n",
       "    </tr>\n",
       "    <tr>\n",
       "      <th>treatment</th>\n",
       "      <td>147276.0</td>\n",
       "      <td>787825.226283</td>\n",
       "      <td>91142.800641</td>\n",
       "      <td>630000.0</td>\n",
       "      <td>708729.5</td>\n",
       "      <td>787837.5</td>\n",
       "      <td>866693.75</td>\n",
       "      <td>945999.0</td>\n",
       "      <td>147276.0</td>\n",
       "      <td>0.118920</td>\n",
       "      <td>0.323695</td>\n",
       "      <td>0.0</td>\n",
       "      <td>0.0</td>\n",
       "      <td>0.0</td>\n",
       "      <td>0.0</td>\n",
       "      <td>1.0</td>\n",
       "    </tr>\n",
       "  </tbody>\n",
       "</table>\n",
       "</div>"
      ],
      "text/plain": [
       "            user_id                                                   \\\n",
       "              count           mean           std       min       25%   \n",
       "group                                                                  \n",
       "control    147202.0  788123.098035  91278.896888  630002.0  709287.0   \n",
       "treatment  147276.0  787825.226283  91142.800641  630000.0  708729.5   \n",
       "\n",
       "                                         converted                           \\\n",
       "                50%        75%       max     count      mean       std  min   \n",
       "group                                                                         \n",
       "control    788053.5  867155.50  945998.0  147202.0  0.120399  0.325429  0.0   \n",
       "treatment  787837.5  866693.75  945999.0  147276.0  0.118920  0.323695  0.0   \n",
       "\n",
       "                               \n",
       "           25%  50%  75%  max  \n",
       "group                          \n",
       "control    0.0  0.0  0.0  1.0  \n",
       "treatment  0.0  0.0  0.0  1.0  "
      ]
     },
     "execution_count": 40,
     "metadata": {},
     "output_type": "execute_result"
    }
   ],
   "source": [
    "df.groupby('group').describe()"
   ]
  },
  {
   "cell_type": "code",
   "execution_count": 8,
   "id": "7d238bf5-b635-4db2-9b06-a0994db95e82",
   "metadata": {},
   "outputs": [
    {
     "data": {
      "text/plain": [
       "0"
      ]
     },
     "execution_count": 8,
     "metadata": {},
     "output_type": "execute_result"
    }
   ],
   "source": [
    "df.duplicated().sum()"
   ]
  },
  {
   "cell_type": "code",
   "execution_count": 9,
   "id": "4416dd36-63d2-4fd6-947e-b1b5abc08d77",
   "metadata": {},
   "outputs": [
    {
     "data": {
      "text/plain": [
       "group\n",
       "treatment    147276\n",
       "control      147202\n",
       "Name: count, dtype: int64"
      ]
     },
     "execution_count": 9,
     "metadata": {},
     "output_type": "execute_result"
    }
   ],
   "source": [
    "#查看分组情况\n",
    "df['group'].value_counts()"
   ]
  },
  {
   "cell_type": "markdown",
   "id": "676f2921-21fd-4b1f-9aad-fcb96e0dc20e",
   "metadata": {},
   "source": [
    "## 数据清洗"
   ]
  },
  {
   "cell_type": "code",
   "execution_count": 10,
   "id": "cafa1354-4271-42b2-b20f-8ae2b33f235b",
   "metadata": {},
   "outputs": [
    {
     "data": {
      "text/plain": [
       "user_id         0\n",
       "timestamp       0\n",
       "group           0\n",
       "landing_page    0\n",
       "converted       0\n",
       "dtype: int64"
      ]
     },
     "execution_count": 10,
     "metadata": {},
     "output_type": "execute_result"
    }
   ],
   "source": [
    "df.isnull().sum()"
   ]
  },
  {
   "cell_type": "code",
   "execution_count": 11,
   "id": "28a2ac19-7d33-4091-a5dc-fe04ffb51269",
   "metadata": {},
   "outputs": [
    {
     "data": {
      "text/plain": [
       "0"
      ]
     },
     "execution_count": 11,
     "metadata": {},
     "output_type": "execute_result"
    }
   ],
   "source": [
    "df.duplicated().sum()"
   ]
  },
  {
   "cell_type": "code",
   "execution_count": 12,
   "id": "9debf80f-44ba-44e5-9e1f-289b85fcd443",
   "metadata": {},
   "outputs": [
    {
     "data": {
      "text/plain": [
       "3894"
      ]
     },
     "execution_count": 12,
     "metadata": {},
     "output_type": "execute_result"
    }
   ],
   "source": [
    "#检查用户id的重复情况\n",
    "df['user_id'].duplicated().sum()"
   ]
  },
  {
   "cell_type": "code",
   "execution_count": 13,
   "id": "863ed467-9bdd-4622-a3e0-c55b028129d1",
   "metadata": {},
   "outputs": [
    {
     "data": {
      "text/plain": [
       "array([698120, 773192, 899953, ..., 641570, 689637, 744456], dtype=int64)"
      ]
     },
     "execution_count": 13,
     "metadata": {},
     "output_type": "execute_result"
    }
   ],
   "source": [
    "#查看重复用户id\n",
    "del_id = df[df['user_id'].duplicated()]['user_id'].values\n",
    "del_id"
   ]
  },
  {
   "cell_type": "code",
   "execution_count": 14,
   "id": "59cfb1e3-7a7c-4b86-af41-891e0a0a133a",
   "metadata": {},
   "outputs": [
    {
     "data": {
      "text/html": [
       "<div>\n",
       "<style scoped>\n",
       "    .dataframe tbody tr th:only-of-type {\n",
       "        vertical-align: middle;\n",
       "    }\n",
       "\n",
       "    .dataframe tbody tr th {\n",
       "        vertical-align: top;\n",
       "    }\n",
       "\n",
       "    .dataframe thead th {\n",
       "        text-align: right;\n",
       "    }\n",
       "</style>\n",
       "<table border=\"1\" class=\"dataframe\">\n",
       "  <thead>\n",
       "    <tr style=\"text-align: right;\">\n",
       "      <th></th>\n",
       "      <th>user_id</th>\n",
       "      <th>timestamp</th>\n",
       "      <th>group</th>\n",
       "      <th>landing_page</th>\n",
       "      <th>converted</th>\n",
       "    </tr>\n",
       "  </thead>\n",
       "  <tbody>\n",
       "    <tr>\n",
       "      <th>988</th>\n",
       "      <td>698120</td>\n",
       "      <td>2017-01-22 07:09:37.540970</td>\n",
       "      <td>control</td>\n",
       "      <td>new_page</td>\n",
       "      <td>0</td>\n",
       "    </tr>\n",
       "    <tr>\n",
       "      <th>2656</th>\n",
       "      <td>698120</td>\n",
       "      <td>2017-01-15 17:13:42.602796</td>\n",
       "      <td>control</td>\n",
       "      <td>old_page</td>\n",
       "      <td>0</td>\n",
       "    </tr>\n",
       "  </tbody>\n",
       "</table>\n",
       "</div>"
      ],
      "text/plain": [
       "      user_id                   timestamp    group landing_page  converted\n",
       "988    698120  2017-01-22 07:09:37.540970  control     new_page          0\n",
       "2656   698120  2017-01-15 17:13:42.602796  control     old_page          0"
      ]
     },
     "execution_count": 14,
     "metadata": {},
     "output_type": "execute_result"
    }
   ],
   "source": [
    "df[df['user_id'] == 698120]"
   ]
  },
  {
   "cell_type": "code",
   "execution_count": 15,
   "id": "90db4b27-752b-488f-9c1e-82fbde8ee5a1",
   "metadata": {},
   "outputs": [
    {
     "data": {
      "text/plain": [
       "0"
      ]
     },
     "execution_count": 15,
     "metadata": {},
     "output_type": "execute_result"
    }
   ],
   "source": [
    "#删除id值重复的数据\n",
    "df_new = df[~df['user_id'].isin(del_id)]\n",
    "df_new['user_id'].duplicated().sum()"
   ]
  },
  {
   "cell_type": "code",
   "execution_count": 16,
   "id": "7c38327f-3232-45ff-bc26-b525a79a4e76",
   "metadata": {},
   "outputs": [
    {
     "data": {
      "text/plain": [
       "user_id          int64\n",
       "timestamp       object\n",
       "group           object\n",
       "landing_page    object\n",
       "converted        int64\n",
       "dtype: object"
      ]
     },
     "execution_count": 16,
     "metadata": {},
     "output_type": "execute_result"
    }
   ],
   "source": [
    "#处理时间字段\n",
    "df_new.loc[:,'timestamp']=pd.to_datetime(df_new['timestamp'],format = '%Y-%m-%d %H:%M:%S.%f' ).dt.strftime('%Y-%m-%d')\n",
    "df_new.dtypes\n"
   ]
  },
  {
   "cell_type": "code",
   "execution_count": 17,
   "id": "0f838245-f510-471e-85ca-58bf015c58b2",
   "metadata": {},
   "outputs": [
    {
     "data": {
      "text/html": [
       "<div>\n",
       "<style scoped>\n",
       "    .dataframe tbody tr th:only-of-type {\n",
       "        vertical-align: middle;\n",
       "    }\n",
       "\n",
       "    .dataframe tbody tr th {\n",
       "        vertical-align: top;\n",
       "    }\n",
       "\n",
       "    .dataframe thead th {\n",
       "        text-align: right;\n",
       "    }\n",
       "</style>\n",
       "<table border=\"1\" class=\"dataframe\">\n",
       "  <thead>\n",
       "    <tr style=\"text-align: right;\">\n",
       "      <th></th>\n",
       "      <th>user_id</th>\n",
       "      <th>timestamp</th>\n",
       "      <th>group</th>\n",
       "      <th>landing_page</th>\n",
       "      <th>converted</th>\n",
       "    </tr>\n",
       "  </thead>\n",
       "  <tbody>\n",
       "    <tr>\n",
       "      <th>0</th>\n",
       "      <td>851104</td>\n",
       "      <td>2017-01-21</td>\n",
       "      <td>control</td>\n",
       "      <td>old_page</td>\n",
       "      <td>0</td>\n",
       "    </tr>\n",
       "    <tr>\n",
       "      <th>1</th>\n",
       "      <td>804228</td>\n",
       "      <td>2017-01-12</td>\n",
       "      <td>control</td>\n",
       "      <td>old_page</td>\n",
       "      <td>0</td>\n",
       "    </tr>\n",
       "    <tr>\n",
       "      <th>2</th>\n",
       "      <td>661590</td>\n",
       "      <td>2017-01-11</td>\n",
       "      <td>treatment</td>\n",
       "      <td>new_page</td>\n",
       "      <td>0</td>\n",
       "    </tr>\n",
       "    <tr>\n",
       "      <th>3</th>\n",
       "      <td>853541</td>\n",
       "      <td>2017-01-08</td>\n",
       "      <td>treatment</td>\n",
       "      <td>new_page</td>\n",
       "      <td>0</td>\n",
       "    </tr>\n",
       "    <tr>\n",
       "      <th>4</th>\n",
       "      <td>864975</td>\n",
       "      <td>2017-01-21</td>\n",
       "      <td>control</td>\n",
       "      <td>old_page</td>\n",
       "      <td>1</td>\n",
       "    </tr>\n",
       "  </tbody>\n",
       "</table>\n",
       "</div>"
      ],
      "text/plain": [
       "   user_id   timestamp      group landing_page  converted\n",
       "0   851104  2017-01-21    control     old_page          0\n",
       "1   804228  2017-01-12    control     old_page          0\n",
       "2   661590  2017-01-11  treatment     new_page          0\n",
       "3   853541  2017-01-08  treatment     new_page          0\n",
       "4   864975  2017-01-21    control     old_page          1"
      ]
     },
     "execution_count": 17,
     "metadata": {},
     "output_type": "execute_result"
    }
   ],
   "source": [
    "df_new.head()"
   ]
  },
  {
   "cell_type": "code",
   "execution_count": 18,
   "id": "1b83fd26-3759-42ef-85f4-e26bcd3c56e3",
   "metadata": {},
   "outputs": [
    {
     "data": {
      "text/plain": [
       "timestamp\n",
       "2017-01-08    13231\n",
       "2017-01-10    13184\n",
       "2017-01-11    13183\n",
       "2017-01-06    13168\n",
       "2017-01-23    13164\n",
       "2017-01-21    13139\n",
       "2017-01-15    13081\n",
       "2017-01-09    13064\n",
       "2017-01-22    13059\n",
       "2017-01-20    13051\n",
       "2017-01-03    13025\n",
       "2017-01-07    13013\n",
       "2017-01-12    12992\n",
       "2017-01-14    12983\n",
       "2017-01-17    12976\n",
       "2017-01-19    12968\n",
       "2017-01-16    12948\n",
       "2017-01-04    12929\n",
       "2017-01-18    12915\n",
       "2017-01-13    12893\n",
       "2017-01-05    12748\n",
       "2017-01-24     7345\n",
       "2017-01-02     5631\n",
       "Name: count, dtype: int64"
      ]
     },
     "execution_count": 18,
     "metadata": {},
     "output_type": "execute_result"
    }
   ],
   "source": [
    "#查看日期跨度，实验周期，避免因周末特殊情况对实验造成影响\n",
    "df_new['timestamp'].value_counts()\n"
   ]
  },
  {
   "cell_type": "code",
   "execution_count": 43,
   "id": "eb23d48e-ce2b-49d9-914c-b27c0fff418b",
   "metadata": {},
   "outputs": [
    {
     "name": "stdout",
     "output_type": "stream",
     "text": [
      "实验持续天数 23\n",
      "实验周期：2017-01-02~2017-01-24\n"
     ]
    }
   ],
   "source": [
    "print(\"实验持续天数\",len(df_new['timestamp'].unique()))\n",
    "print(f\"实验周期：{df_new['timestamp'].min()}~{df_new['timestamp'].max()}\")"
   ]
  },
  {
   "cell_type": "code",
   "execution_count": 20,
   "id": "6bff3b31-6ed6-4399-95a0-44f81e8100e5",
   "metadata": {},
   "outputs": [
    {
     "name": "stdout",
     "output_type": "stream",
     "text": [
      "<class 'pandas.core.frame.DataFrame'>\n",
      "Index: 286690 entries, 0 to 294477\n",
      "Data columns (total 5 columns):\n",
      " #   Column        Non-Null Count   Dtype \n",
      "---  ------        --------------   ----- \n",
      " 0   user_id       286690 non-null  int64 \n",
      " 1   timestamp     286690 non-null  object\n",
      " 2   group         286690 non-null  object\n",
      " 3   landing_page  286690 non-null  object\n",
      " 4   converted     286690 non-null  int64 \n",
      "dtypes: int64(2), object(3)\n",
      "memory usage: 13.1+ MB\n"
     ]
    }
   ],
   "source": [
    "df_new.info()"
   ]
  },
  {
   "cell_type": "code",
   "execution_count": 21,
   "id": "f53bef4b-acf5-4dd4-b4af-de2b68a299bd",
   "metadata": {},
   "outputs": [
    {
     "data": {
      "text/html": [
       "<div>\n",
       "<style scoped>\n",
       "    .dataframe tbody tr th:only-of-type {\n",
       "        vertical-align: middle;\n",
       "    }\n",
       "\n",
       "    .dataframe tbody tr th {\n",
       "        vertical-align: top;\n",
       "    }\n",
       "\n",
       "    .dataframe thead th {\n",
       "        text-align: right;\n",
       "    }\n",
       "</style>\n",
       "<table border=\"1\" class=\"dataframe\">\n",
       "  <thead>\n",
       "    <tr style=\"text-align: right;\">\n",
       "      <th>landing_page</th>\n",
       "      <th>new_page</th>\n",
       "      <th>old_page</th>\n",
       "    </tr>\n",
       "    <tr>\n",
       "      <th>group</th>\n",
       "      <th></th>\n",
       "      <th></th>\n",
       "    </tr>\n",
       "  </thead>\n",
       "  <tbody>\n",
       "    <tr>\n",
       "      <th>control</th>\n",
       "      <td>0</td>\n",
       "      <td>143293</td>\n",
       "    </tr>\n",
       "    <tr>\n",
       "      <th>treatment</th>\n",
       "      <td>143397</td>\n",
       "      <td>0</td>\n",
       "    </tr>\n",
       "  </tbody>\n",
       "</table>\n",
       "</div>"
      ],
      "text/plain": [
       "landing_page  new_page  old_page\n",
       "group                           \n",
       "control              0    143293\n",
       "treatment       143397         0"
      ]
     },
     "execution_count": 21,
     "metadata": {},
     "output_type": "execute_result"
    }
   ],
   "source": [
    "#group:用户分组情况【treatment-新；control-旧】\n",
    "#landing_page: 分到的页面，与group字段一一对应\n",
    "#利用crosstab交叉表检查对应情况\n",
    "pd.crosstab(df_new['group'],df_new['landing_page'])"
   ]
  },
  {
   "cell_type": "markdown",
   "id": "45ea6ec5-bbb5-49bf-bf36-c7d7dbbfbd70",
   "metadata": {},
   "source": [
    "## 假设检验"
   ]
  },
  {
   "cell_type": "code",
   "execution_count": 58,
   "id": "4da00eef-ee3c-4b72-be60-9e0476bdc0fb",
   "metadata": {},
   "outputs": [
    {
     "data": {
      "image/png": "[encoded data removed]",
      "text/plain": [
       "<Figure size 2000x1800 with 1 Axes>"
      ]
     },
     "metadata": {},
     "output_type": "display_data"
    }
   ],
   "source": [
    "#查看总体转化率情况\n",
    "plt.figure(figsize = (20,18))\n",
    "#条形图绘制\n",
    "ax  = sns.barplot(x = 'group',y = 'converted',data = df_new,estimator=np.mean,errorbar=('ci', 95))\n",
    "for container in ax.containers:\n",
    "    ax.bar_label(container,fmt='%.4f',padding=5,label_type='edge',fontsize=15,color='black')\n",
    "plt.title('Conversion Rate Comparison',y =1.02,fontsize=20)\n",
    "plt.ylabel('Conversion Rate',fontsize = 18)\n",
    "plt.ylim(0, 0.15) #控制y轴上下限\n",
    "plt.show()"
   ]
  },
  {
   "cell_type": "code",
   "execution_count": 50,
   "id": "20aff5b0-dc09-4cd3-a271-af49022a8c9c",
   "metadata": {
    "scrolled": true
   },
   "outputs": [
    {
     "data": {
      "text/html": [
       "<div>\n",
       "<style scoped>\n",
       "    .dataframe tbody tr th:only-of-type {\n",
       "        vertical-align: middle;\n",
       "    }\n",
       "\n",
       "    .dataframe tbody tr th {\n",
       "        vertical-align: top;\n",
       "    }\n",
       "\n",
       "    .dataframe thead th {\n",
       "        text-align: right;\n",
       "    }\n",
       "</style>\n",
       "<table border=\"1\" class=\"dataframe\">\n",
       "  <thead>\n",
       "    <tr style=\"text-align: right;\">\n",
       "      <th></th>\n",
       "      <th>user_id</th>\n",
       "      <th>timestamp</th>\n",
       "      <th>group</th>\n",
       "      <th>landing_page</th>\n",
       "      <th>converted</th>\n",
       "    </tr>\n",
       "  </thead>\n",
       "  <tbody>\n",
       "    <tr>\n",
       "      <th>293433</th>\n",
       "      <td>663037</td>\n",
       "      <td>2017-01-05</td>\n",
       "      <td>control</td>\n",
       "      <td>old_page</td>\n",
       "      <td>0</td>\n",
       "    </tr>\n",
       "    <tr>\n",
       "      <th>260295</th>\n",
       "      <td>932826</td>\n",
       "      <td>2017-01-13</td>\n",
       "      <td>control</td>\n",
       "      <td>old_page</td>\n",
       "      <td>1</td>\n",
       "    </tr>\n",
       "    <tr>\n",
       "      <th>288076</th>\n",
       "      <td>922999</td>\n",
       "      <td>2017-01-04</td>\n",
       "      <td>control</td>\n",
       "      <td>old_page</td>\n",
       "      <td>0</td>\n",
       "    </tr>\n",
       "    <tr>\n",
       "      <th>232006</th>\n",
       "      <td>857826</td>\n",
       "      <td>2017-01-19</td>\n",
       "      <td>control</td>\n",
       "      <td>old_page</td>\n",
       "      <td>0</td>\n",
       "    </tr>\n",
       "    <tr>\n",
       "      <th>183256</th>\n",
       "      <td>762926</td>\n",
       "      <td>2017-01-18</td>\n",
       "      <td>control</td>\n",
       "      <td>old_page</td>\n",
       "      <td>0</td>\n",
       "    </tr>\n",
       "  </tbody>\n",
       "</table>\n",
       "</div>"
      ],
      "text/plain": [
       "        user_id   timestamp    group landing_page  converted\n",
       "293433   663037  2017-01-05  control     old_page          0\n",
       "260295   932826  2017-01-13  control     old_page          1\n",
       "288076   922999  2017-01-04  control     old_page          0\n",
       "232006   857826  2017-01-19  control     old_page          0\n",
       "183256   762926  2017-01-18  control     old_page          0"
      ]
     },
     "metadata": {},
     "output_type": "display_data"
    },
    {
     "data": {
      "text/html": [
       "<div>\n",
       "<style scoped>\n",
       "    .dataframe tbody tr th:only-of-type {\n",
       "        vertical-align: middle;\n",
       "    }\n",
       "\n",
       "    .dataframe tbody tr th {\n",
       "        vertical-align: top;\n",
       "    }\n",
       "\n",
       "    .dataframe thead th {\n",
       "        text-align: right;\n",
       "    }\n",
       "</style>\n",
       "<table border=\"1\" class=\"dataframe\">\n",
       "  <thead>\n",
       "    <tr style=\"text-align: right;\">\n",
       "      <th></th>\n",
       "      <th>user_id</th>\n",
       "      <th>timestamp</th>\n",
       "      <th>group</th>\n",
       "      <th>landing_page</th>\n",
       "      <th>converted</th>\n",
       "    </tr>\n",
       "  </thead>\n",
       "  <tbody>\n",
       "    <tr>\n",
       "      <th>113807</th>\n",
       "      <td>656399</td>\n",
       "      <td>2017-01-13</td>\n",
       "      <td>treatment</td>\n",
       "      <td>new_page</td>\n",
       "      <td>0</td>\n",
       "    </tr>\n",
       "    <tr>\n",
       "      <th>155767</th>\n",
       "      <td>945314</td>\n",
       "      <td>2017-01-19</td>\n",
       "      <td>treatment</td>\n",
       "      <td>new_page</td>\n",
       "      <td>0</td>\n",
       "    </tr>\n",
       "    <tr>\n",
       "      <th>237344</th>\n",
       "      <td>805783</td>\n",
       "      <td>2017-01-12</td>\n",
       "      <td>treatment</td>\n",
       "      <td>new_page</td>\n",
       "      <td>0</td>\n",
       "    </tr>\n",
       "    <tr>\n",
       "      <th>128315</th>\n",
       "      <td>632288</td>\n",
       "      <td>2017-01-16</td>\n",
       "      <td>treatment</td>\n",
       "      <td>new_page</td>\n",
       "      <td>0</td>\n",
       "    </tr>\n",
       "    <tr>\n",
       "      <th>271383</th>\n",
       "      <td>868046</td>\n",
       "      <td>2017-01-11</td>\n",
       "      <td>treatment</td>\n",
       "      <td>new_page</td>\n",
       "      <td>0</td>\n",
       "    </tr>\n",
       "  </tbody>\n",
       "</table>\n",
       "</div>"
      ],
      "text/plain": [
       "        user_id   timestamp      group landing_page  converted\n",
       "113807   656399  2017-01-13  treatment     new_page          0\n",
       "155767   945314  2017-01-19  treatment     new_page          0\n",
       "237344   805783  2017-01-12  treatment     new_page          0\n",
       "128315   632288  2017-01-16  treatment     new_page          0\n",
       "271383   868046  2017-01-11  treatment     new_page          0"
      ]
     },
     "metadata": {},
     "output_type": "display_data"
    }
   ],
   "source": [
    "#df.sample()随机抽样分组，每组5000样本，为复现结果，random_state = 42\n",
    "required_n = 5000\n",
    "seed = 42\n",
    "\n",
    "control_sample = df_new[df_new['group'] == 'control'].sample(n = required_n,random_state=seed)\n",
    "treatment_sample = df_new[df_new['group'] == 'treatment'].sample(n = required_n,random_state=seed)\n",
    "\n",
    "#concat（）拼接俩组数据\n",
    "ab_test = pd.concat([control_sample,treatment_sample],axis = 0)\n",
    "display(ab_test.head(),ab_test.tail())"
   ]
  },
  {
   "cell_type": "code",
   "execution_count": 24,
   "id": "8bc83984-825f-4b45-ad03-52e17938f651",
   "metadata": {},
   "outputs": [
    {
     "data": {
      "text/html": [
       "<div>\n",
       "<style scoped>\n",
       "    .dataframe tbody tr th:only-of-type {\n",
       "        vertical-align: middle;\n",
       "    }\n",
       "\n",
       "    .dataframe tbody tr th {\n",
       "        vertical-align: top;\n",
       "    }\n",
       "\n",
       "    .dataframe thead th {\n",
       "        text-align: right;\n",
       "    }\n",
       "</style>\n",
       "<table border=\"1\" class=\"dataframe\">\n",
       "  <thead>\n",
       "    <tr style=\"text-align: right;\">\n",
       "      <th></th>\n",
       "      <th>user_id</th>\n",
       "      <th>timestamp</th>\n",
       "      <th>group</th>\n",
       "      <th>landing_page</th>\n",
       "      <th>converted</th>\n",
       "    </tr>\n",
       "  </thead>\n",
       "  <tbody>\n",
       "    <tr>\n",
       "      <th>0</th>\n",
       "      <td>663037</td>\n",
       "      <td>2017-01-05</td>\n",
       "      <td>control</td>\n",
       "      <td>old_page</td>\n",
       "      <td>0</td>\n",
       "    </tr>\n",
       "    <tr>\n",
       "      <th>1</th>\n",
       "      <td>932826</td>\n",
       "      <td>2017-01-13</td>\n",
       "      <td>control</td>\n",
       "      <td>old_page</td>\n",
       "      <td>1</td>\n",
       "    </tr>\n",
       "    <tr>\n",
       "      <th>2</th>\n",
       "      <td>922999</td>\n",
       "      <td>2017-01-04</td>\n",
       "      <td>control</td>\n",
       "      <td>old_page</td>\n",
       "      <td>0</td>\n",
       "    </tr>\n",
       "    <tr>\n",
       "      <th>3</th>\n",
       "      <td>857826</td>\n",
       "      <td>2017-01-19</td>\n",
       "      <td>control</td>\n",
       "      <td>old_page</td>\n",
       "      <td>0</td>\n",
       "    </tr>\n",
       "    <tr>\n",
       "      <th>4</th>\n",
       "      <td>762926</td>\n",
       "      <td>2017-01-18</td>\n",
       "      <td>control</td>\n",
       "      <td>old_page</td>\n",
       "      <td>0</td>\n",
       "    </tr>\n",
       "  </tbody>\n",
       "</table>\n",
       "</div>"
      ],
      "text/plain": [
       "   user_id   timestamp    group landing_page  converted\n",
       "0   663037  2017-01-05  control     old_page          0\n",
       "1   932826  2017-01-13  control     old_page          1\n",
       "2   922999  2017-01-04  control     old_page          0\n",
       "3   857826  2017-01-19  control     old_page          0\n",
       "4   762926  2017-01-18  control     old_page          0"
      ]
     },
     "metadata": {},
     "output_type": "display_data"
    },
    {
     "data": {
      "text/html": [
       "<div>\n",
       "<style scoped>\n",
       "    .dataframe tbody tr th:only-of-type {\n",
       "        vertical-align: middle;\n",
       "    }\n",
       "\n",
       "    .dataframe tbody tr th {\n",
       "        vertical-align: top;\n",
       "    }\n",
       "\n",
       "    .dataframe thead th {\n",
       "        text-align: right;\n",
       "    }\n",
       "</style>\n",
       "<table border=\"1\" class=\"dataframe\">\n",
       "  <thead>\n",
       "    <tr style=\"text-align: right;\">\n",
       "      <th></th>\n",
       "      <th>user_id</th>\n",
       "      <th>timestamp</th>\n",
       "      <th>group</th>\n",
       "      <th>landing_page</th>\n",
       "      <th>converted</th>\n",
       "    </tr>\n",
       "  </thead>\n",
       "  <tbody>\n",
       "    <tr>\n",
       "      <th>9995</th>\n",
       "      <td>656399</td>\n",
       "      <td>2017-01-13</td>\n",
       "      <td>treatment</td>\n",
       "      <td>new_page</td>\n",
       "      <td>0</td>\n",
       "    </tr>\n",
       "    <tr>\n",
       "      <th>9996</th>\n",
       "      <td>945314</td>\n",
       "      <td>2017-01-19</td>\n",
       "      <td>treatment</td>\n",
       "      <td>new_page</td>\n",
       "      <td>0</td>\n",
       "    </tr>\n",
       "    <tr>\n",
       "      <th>9997</th>\n",
       "      <td>805783</td>\n",
       "      <td>2017-01-12</td>\n",
       "      <td>treatment</td>\n",
       "      <td>new_page</td>\n",
       "      <td>0</td>\n",
       "    </tr>\n",
       "    <tr>\n",
       "      <th>9998</th>\n",
       "      <td>632288</td>\n",
       "      <td>2017-01-16</td>\n",
       "      <td>treatment</td>\n",
       "      <td>new_page</td>\n",
       "      <td>0</td>\n",
       "    </tr>\n",
       "    <tr>\n",
       "      <th>9999</th>\n",
       "      <td>868046</td>\n",
       "      <td>2017-01-11</td>\n",
       "      <td>treatment</td>\n",
       "      <td>new_page</td>\n",
       "      <td>0</td>\n",
       "    </tr>\n",
       "  </tbody>\n",
       "</table>\n",
       "</div>"
      ],
      "text/plain": [
       "      user_id   timestamp      group landing_page  converted\n",
       "9995   656399  2017-01-13  treatment     new_page          0\n",
       "9996   945314  2017-01-19  treatment     new_page          0\n",
       "9997   805783  2017-01-12  treatment     new_page          0\n",
       "9998   632288  2017-01-16  treatment     new_page          0\n",
       "9999   868046  2017-01-11  treatment     new_page          0"
      ]
     },
     "metadata": {},
     "output_type": "display_data"
    }
   ],
   "source": [
    "#reset_index()重置索引\n",
    "ab_test.reset_index(inplace=True,drop = True)\n",
    "display(ab_test.head(),ab_test.tail())"
   ]
  },
  {
   "cell_type": "code",
   "execution_count": 25,
   "id": "83077ddd-0695-4901-85b8-7322a997654f",
   "metadata": {},
   "outputs": [
    {
     "data": {
      "text/html": [
       "<div>\n",
       "<style scoped>\n",
       "    .dataframe tbody tr th:only-of-type {\n",
       "        vertical-align: middle;\n",
       "    }\n",
       "\n",
       "    .dataframe tbody tr th {\n",
       "        vertical-align: top;\n",
       "    }\n",
       "\n",
       "    .dataframe thead th {\n",
       "        text-align: right;\n",
       "    }\n",
       "</style>\n",
       "<table border=\"1\" class=\"dataframe\">\n",
       "  <thead>\n",
       "    <tr style=\"text-align: right;\">\n",
       "      <th>landing_page</th>\n",
       "      <th>new_page</th>\n",
       "      <th>old_page</th>\n",
       "    </tr>\n",
       "    <tr>\n",
       "      <th>group</th>\n",
       "      <th></th>\n",
       "      <th></th>\n",
       "    </tr>\n",
       "  </thead>\n",
       "  <tbody>\n",
       "    <tr>\n",
       "      <th>control</th>\n",
       "      <td>0</td>\n",
       "      <td>5000</td>\n",
       "    </tr>\n",
       "    <tr>\n",
       "      <th>treatment</th>\n",
       "      <td>5000</td>\n",
       "      <td>0</td>\n",
       "    </tr>\n",
       "  </tbody>\n",
       "</table>\n",
       "</div>"
      ],
      "text/plain": [
       "landing_page  new_page  old_page\n",
       "group                           \n",
       "control              0      5000\n",
       "treatment         5000         0"
      ]
     },
     "execution_count": 25,
     "metadata": {},
     "output_type": "execute_result"
    }
   ],
   "source": [
    "#利用pd.crosstab()交叉表检验数据，确保control组全为old_page,treament组全为new_page\n",
    "pd.crosstab(ab_test['group'],ab_test['landing_page'])"
   ]
  },
  {
   "cell_type": "code",
   "execution_count": 26,
   "id": "2ca0234a-4a44-4bd9-8041-3dfbb4e21ce5",
   "metadata": {},
   "outputs": [
    {
     "data": {
      "text/html": [
       "<div>\n",
       "<style scoped>\n",
       "    .dataframe tbody tr th:only-of-type {\n",
       "        vertical-align: middle;\n",
       "    }\n",
       "\n",
       "    .dataframe tbody tr th {\n",
       "        vertical-align: top;\n",
       "    }\n",
       "\n",
       "    .dataframe thead th {\n",
       "        text-align: right;\n",
       "    }\n",
       "</style>\n",
       "<table border=\"1\" class=\"dataframe\">\n",
       "  <thead>\n",
       "    <tr style=\"text-align: right;\">\n",
       "      <th></th>\n",
       "      <th>conversion_rate</th>\n",
       "      <th>std_deviation</th>\n",
       "    </tr>\n",
       "    <tr>\n",
       "      <th>group</th>\n",
       "      <th></th>\n",
       "      <th></th>\n",
       "    </tr>\n",
       "  </thead>\n",
       "  <tbody>\n",
       "    <tr>\n",
       "      <th>control</th>\n",
       "      <td>0.1164</td>\n",
       "      <td>0.320736</td>\n",
       "    </tr>\n",
       "    <tr>\n",
       "      <th>treatment</th>\n",
       "      <td>0.1288</td>\n",
       "      <td>0.335012</td>\n",
       "    </tr>\n",
       "  </tbody>\n",
       "</table>\n",
       "</div>"
      ],
      "text/plain": [
       "           conversion_rate  std_deviation\n",
       "group                                    \n",
       "control             0.1164       0.320736\n",
       "treatment           0.1288       0.335012"
      ]
     },
     "execution_count": 26,
     "metadata": {},
     "output_type": "execute_result"
    }
   ],
   "source": [
    "#计算A/B测试中实验组和对照组的转化率CVR（conversion_rate）及其标准差\n",
    "c_r = ab_test.groupby('group')['converted'].agg([pd.Series.mean,pd.Series.std])\n",
    "c_r.columns = ['conversion_rate','std_deviation']\n",
    "c_r"
   ]
  },
  {
   "cell_type": "code",
   "execution_count": 60,
   "id": "c589a61d-2c13-4b3c-a167-902f598d8b97",
   "metadata": {},
   "outputs": [
    {
     "data": {
      "image/png": "[encoded data removed]",
      "text/plain": [
       "<Figure size 1000x800 with 1 Axes>"
      ]
     },
     "metadata": {},
     "output_type": "display_data"
    },
    {
     "name": "stdout",
     "output_type": "stream",
     "text": [
      "实验组treatment的转化率高出基础组control的转化率的百分比为：10.65%\n"
     ]
    }
   ],
   "source": [
    "#CVR可视化\n",
    "# plt.rcParams['font.family'] = 'SimHei'\n",
    "# plt.rcParams['axes.unicode_minus'] = False\n",
    "\n",
    "# plt.figure(figsize = (10,8),dpi = 100)\n",
    "# sns.barplot(x = 'group',y = 'converted',data = ab_test,errorbar=('ci',True)) #ci：Confidence Interval（置信区间）\n",
    "\n",
    "# plt.ylim(0, 0.17)\n",
    "# plt.title('Group conversion rate', fontsize=30,y = 1.02)\n",
    "# plt.xlabel('Group', fontsize=20)\n",
    "# plt.ylabel('conversion rate', fontsize=20)\n",
    "\n",
    "plt.figure(figsize=(10, 8), dpi=100)\n",
    "ax = sns.barplot(x='group', y='converted', data=ab_test, errorbar=('ci', True))\n",
    "\n",
    "# 在每个柱子上方添加数值标签（格式化为百分比）\n",
    "for container in ax.containers:\n",
    "    ax.bar_label(container, fmt='%.4f', label_type='edge', padding=5, \n",
    "                 fontsize=16, color='black')  # 将小数转换为百分比\n",
    "\n",
    "plt.ylim(0, 0.17)\n",
    "plt.title('Group Conversion Rate', fontsize=30, y=1.02)\n",
    "plt.xlabel('Group', fontsize=20)\n",
    "plt.ylabel('Conversion Rate', fontsize=20)\n",
    "plt.show()\n",
    "\n",
    "#计算实验组treatment的转化率高出基础组control的转化率的百分比\n",
    "cr_up_ratio =(ab_test[ab_test['group'] == 'treatment']['converted'].mean() - ab_test[ab_test['group'] == 'control']['converted'].mean())/ ab_test[ab_test['group'] == 'control']['converted'].mean()\n",
    "print('实验组treatment的转化率高出基础组control的转化率的百分比为：{:.2%}'.format(cr_up_ratio))\n"
   ]
  },
  {
   "cell_type": "markdown",
   "id": "583bbdc8-a5a4-4516-a9f4-1423468d9082",
   "metadata": {},
   "source": [
    "高出10.65%是否显著——假设检验（z检验，t检验）  \n",
    "总体方差已知：z检验  \n",
    "总体方差未知：  \n",
    "    样本容量大：z检验  \n",
    "    样本容量小：t检验，"
   ]
  },
  {
   "cell_type": "code",
   "execution_count": 28,
   "id": "1e0bae80-6956-488c-94df-5285d5da3e7e",
   "metadata": {},
   "outputs": [],
   "source": [
    "#导入z检验所需包 confint：confidence interval置信区间\n",
    "from statsmodels.stats.proportion import proportions_ztest,proportion_confint"
   ]
  },
  {
   "cell_type": "code",
   "execution_count": 61,
   "id": "75560e0a-93f9-416f-8170-412e313b41f4",
   "metadata": {},
   "outputs": [
    {
     "data": {
      "text/plain": [
       "([5000, 5000], [582, 644])"
      ]
     },
     "execution_count": 61,
     "metadata": {},
     "output_type": "execute_result"
    }
   ],
   "source": [
    "#提取结果\n",
    "c_results = ab_test[ab_test['group'] == 'control']['converted']\n",
    "t_results = ab_test[ab_test['group'] == 'treatment']['converted']\n",
    "\n",
    "#计算观测值数量nobs observations\n",
    "n_c = c_results.count()\n",
    "n_t = t_results.count()\n",
    "#成功转化数量\n",
    "successes = [c_results.sum(),t_results.sum()]\n",
    "nobs = [n_c,n_t]\n",
    "nobs,successes"
   ]
  },
  {
   "cell_type": "code",
   "execution_count": 30,
   "id": "9ce34e0d-c817-49f1-b965-13447c9714dd",
   "metadata": {},
   "outputs": [
    {
     "name": "stdout",
     "output_type": "stream",
     "text": [
      "z_stat:-1.89\n",
      "p:0.06\n",
      "95% for control:[0.116,0.117]\n",
      "95% for treatment:[0.128,0.129]\n"
     ]
    }
   ],
   "source": [
    "#z检验\n",
    "#计算得到z值和p值（z_stat：Z统计量，衡量两组差异的标准化距离。pval：P值，表示观察到的差异由随机性导致的概率）\n",
    "z_stat,pval = proportions_ztest(successes,nobs = nobs)\n",
    "\n",
    "#分别计算俩组转化率的置信区间，置信水平alpha【95%】\n",
    "(lower_c,lower_t),(upper_c,upper_t) = proportion_confint(successes,nobs = nobs,alpha=0.95,method = 'beta')\n",
    "print(f'z_stat:{z_stat:.2f}')\n",
    "print(f'p:{pval:.2f}')\n",
    "print(f'95% for control:[{lower_c:.3f},{upper_c:.3f}]')\n",
    "print(f'95% for treatment:[{lower_t:.3f},{upper_t:.3f}]')"
   ]
  },
  {
   "cell_type": "markdown",
   "id": "864123db-f22b-4408-bde9-215ecf77559a",
   "metadata": {},
   "source": [
    "p = 0.06 > 0.05高于显著性水平，从而不能拒绝原假设，即认为实验组与对照组无明显差异  \n",
    "  且实验组treatment的置信区间[0.129,0.129]不包含预期的15%，同样说明新方案无法达到预期。"
   ]
  },
  {
   "cell_type": "markdown",
   "id": "cd279208-5293-4350-8ff5-93fa6009ee0d",
   "metadata": {},
   "source": [
    "# 拓展：多种统计检验方法  \n",
    "设预期转化率为12%"
   ]
  },
  {
   "cell_type": "code",
   "execution_count": 31,
   "id": "46328422-6548-4789-bdeb-93dc17cc4c27",
   "metadata": {},
   "outputs": [
    {
     "data": {
      "text/html": [
       "<div>\n",
       "<style scoped>\n",
       "    .dataframe tbody tr th:only-of-type {\n",
       "        vertical-align: middle;\n",
       "    }\n",
       "\n",
       "    .dataframe tbody tr th {\n",
       "        vertical-align: top;\n",
       "    }\n",
       "\n",
       "    .dataframe thead th {\n",
       "        text-align: right;\n",
       "    }\n",
       "</style>\n",
       "<table border=\"1\" class=\"dataframe\">\n",
       "  <thead>\n",
       "    <tr style=\"text-align: right;\">\n",
       "      <th></th>\n",
       "      <th>user_id</th>\n",
       "      <th>timestamp</th>\n",
       "      <th>group</th>\n",
       "      <th>landing_page</th>\n",
       "      <th>converted</th>\n",
       "    </tr>\n",
       "  </thead>\n",
       "  <tbody>\n",
       "    <tr>\n",
       "      <th>0</th>\n",
       "      <td>851104</td>\n",
       "      <td>2017-01-21</td>\n",
       "      <td>control</td>\n",
       "      <td>old_page</td>\n",
       "      <td>0</td>\n",
       "    </tr>\n",
       "    <tr>\n",
       "      <th>1</th>\n",
       "      <td>804228</td>\n",
       "      <td>2017-01-12</td>\n",
       "      <td>control</td>\n",
       "      <td>old_page</td>\n",
       "      <td>0</td>\n",
       "    </tr>\n",
       "    <tr>\n",
       "      <th>2</th>\n",
       "      <td>661590</td>\n",
       "      <td>2017-01-11</td>\n",
       "      <td>treatment</td>\n",
       "      <td>new_page</td>\n",
       "      <td>0</td>\n",
       "    </tr>\n",
       "    <tr>\n",
       "      <th>3</th>\n",
       "      <td>853541</td>\n",
       "      <td>2017-01-08</td>\n",
       "      <td>treatment</td>\n",
       "      <td>new_page</td>\n",
       "      <td>0</td>\n",
       "    </tr>\n",
       "    <tr>\n",
       "      <th>4</th>\n",
       "      <td>864975</td>\n",
       "      <td>2017-01-21</td>\n",
       "      <td>control</td>\n",
       "      <td>old_page</td>\n",
       "      <td>1</td>\n",
       "    </tr>\n",
       "  </tbody>\n",
       "</table>\n",
       "</div>"
      ],
      "text/plain": [
       "   user_id   timestamp      group landing_page  converted\n",
       "0   851104  2017-01-21    control     old_page          0\n",
       "1   804228  2017-01-12    control     old_page          0\n",
       "2   661590  2017-01-11  treatment     new_page          0\n",
       "3   853541  2017-01-08  treatment     new_page          0\n",
       "4   864975  2017-01-21    control     old_page          1"
      ]
     },
     "execution_count": 31,
     "metadata": {},
     "output_type": "execute_result"
    }
   ],
   "source": [
    "df_new.head()"
   ]
  },
  {
   "cell_type": "code",
   "execution_count": 32,
   "id": "2aebc724-13c9-4b78-a2c8-a091b64bf79b",
   "metadata": {},
   "outputs": [
    {
     "data": {
      "text/plain": [
       "(143293, 143397)"
      ]
     },
     "execution_count": 32,
     "metadata": {},
     "output_type": "execute_result"
    }
   ],
   "source": [
    "# 探索性分析\n",
    "len(df_new[df_new['group'] == 'control']),len(df_new[df_new['group'] == 'treatment'])"
   ]
  },
  {
   "cell_type": "code",
   "execution_count": null,
   "id": "d42c3932-8281-43e5-8b85-150c5f7e7a3f",
   "metadata": {},
   "outputs": [
    {
     "name": "stdout",
     "output_type": "stream",
     "text": [
      "每组需要样本量：3835\n"
     ]
    }
   ],
   "source": [
    "\"\"\"\n",
    "想象你是一个机场安检员，任务是检测旅客是否携带违禁品：\n",
    "\n",
    "原假设（H₀）：旅客没有违禁品\n",
    "备择假设（H₁）：旅客携带违禁品\n",
    "\n",
    "统计功效就是：当旅客真的携带违禁品时，你成功检测到的概率。\n",
    "若你的安检仪功效=0.8，意味着100个带违禁品的旅客中，你能抓住80个，漏掉20个（即20%的漏检率）。\n",
    "\n",
    "在A/B测试中的具体定义\n",
    "power：统计功效 = 1 - β（β是第二类错误概率，去真存伪）\n",
    "\n",
    "含义：当两组真实存在差异时，实验能正确检测到差异的概率。\n",
    "\n",
    "常见设置：power=0.8（即80%概率发现真实差异）\n",
    "\n",
    "\n",
    "\"\"\"\n",
    "#确定样本大小\n",
    "from statsmodels.stats.power import NormalIndPower\n",
    "from statsmodels.stats.proportion import proportion_effectsize\n",
    "\n",
    "#参数设置(基线转化率10%，检测2%绝对提升，相对提升20%)\n",
    "alpha = 0.05    #显著性水平（置信区间为95%）\n",
    "power = 0.8     #统计功效（80%概率发现真实差异）\n",
    "p1 = 0.10       #基线转化率（control对照组）\n",
    "p2 = 0.12      #预期转化率（treatment实验组）\n",
    "ratio = 1       #实验组对照组比例\n",
    "\n",
    "#计算效应量\n",
    "effect_size = proportion_effectsize(p1,p2)\n",
    "\n",
    "#计算每组样本量\n",
    "analysis = NormalIndPower()\n",
    "n_per_sample = analysis.solve_power(\n",
    "    effect_size=effect_size,\n",
    "    alpha=alpha,\n",
    "    power=power,\n",
    "    ratio = ratio\n",
    ")\n",
    "print(f\"每组需要样本量：{n_per_sample:.0f}\")"
   ]
  },
  {
   "cell_type": "code",
   "execution_count": 34,
   "id": "9a4057af-2493-43b9-b774-5b348dda5cfd",
   "metadata": {},
   "outputs": [],
   "source": [
    "#数据抽样，总体近30w，抽样每组5000人（全局test耗时耗力）\n",
    "control_test = df_new[df_new['group'] == 'control'].sample(n=5000,random_state=42)\n",
    "treatment_test = df_new[df_new['group'] == 'treatment'].sample(n=5000,random_state = 42)\n",
    "\n",
    "#每组成功转化率\n",
    "c_num = control_test[control_test['converted'] == 1]['converted'].count()\n",
    "t_num = treatment_test[treatment_test['converted'] == 1]['converted'].count()\n",
    "\n",
    "#每组数量\n",
    "c_total = control_test['converted'].count()\n",
    "t_total = treatment_test['converted'].count()\n"
   ]
  },
  {
   "cell_type": "markdown",
   "id": "208518d9-3430-4b41-8566-468113a2f670",
   "metadata": {},
   "source": [
    "### Z检验"
   ]
  },
  {
   "cell_type": "code",
   "execution_count": 35,
   "id": "07e28da9-0e37-4b1c-a924-7ec74ae7463a",
   "metadata": {},
   "outputs": [],
   "source": [
    "#Z检验\n",
    "z_stats1,p_val1 = proportions_ztest([c_num,t_num],nobs=[c_total,t_total])\n",
    "#计算置信区间\n",
    "(lower_c,lower_t),(upper_c,upper_t) = proportion_confint([c_num,t_num],nobs = [c_total,t_total],alpha=0.95,method = 'beta')\n"
   ]
  },
  {
   "cell_type": "markdown",
   "id": "e46af1c4-4207-43ea-89da-3711618e057d",
   "metadata": {},
   "source": [
    "### 卡方检验"
   ]
  },
  {
   "cell_type": "code",
   "execution_count": 62,
   "id": "b79b71e0-d428-41f1-a0f1-9fb779bc3637",
   "metadata": {},
   "outputs": [
    {
     "data": {
      "text/plain": [
       "array([[ 582, 4418],\n",
       "       [ 644, 4356]], dtype=int64)"
      ]
     },
     "metadata": {},
     "output_type": "display_data"
    }
   ],
   "source": [
    "#创建联立表\n",
    "contingency_table = np.array([\n",
    "    [c_num,c_total - c_num],\n",
    "    [t_num,t_total - t_num]\n",
    "])\n",
    "display(contingency_table)\n",
    "\"\"\"\n",
    "chi2_stat：卡方统计量，衡量观察值与期望值之间的偏离程度。值越大，说明实际观测值与原假设下的期望值差异越大。\n",
    "chi2_p：p 值，表示在原假设成立的情况下，观察到当前或更极端结果的概率。通常与 0.05 比较，小于 0.05 表示拒绝原假设（两组转化率存在显著差异）。\n",
    "dof：自由度，计算方式为(行数-1)×(列数-1)，这里是(2-1)×(2-1)=1。\n",
    "expected：在原假设（两组无差异）下的期望频数表。\n",
    "\"\"\"\n",
    "chi2_stat,chi_p,dof,expected = stats.chi2_contingency(contingency_table)"
   ]
  },
  {
   "cell_type": "markdown",
   "id": "834edd84-ba23-447f-96f7-42bcba7e14d2",
   "metadata": {},
   "source": [
    "### Fisher精确性检验\n",
    "适用于小样本检验"
   ]
  },
  {
   "cell_type": "code",
   "execution_count": 37,
   "id": "3d9ace01-2eb6-4226-a74b-1ed46590726f",
   "metadata": {},
   "outputs": [],
   "source": [
    "\"\"\"\n",
    "odds_ratio：优势比，表示实验组相对于对照组的优势程度。OR>1 表示实验组更优，OR<1 表示对照组更优。\n",
    "fisher_p：p 值，与卡方检验类似，但 Fisher 检验在小样本下更精确。\n",
    "\"\"\"\n",
    "odds_ratio,fisher_p = stats.fisher_exact(contingency_table)"
   ]
  },
  {
   "cell_type": "markdown",
   "id": "e27d812e-ce98-4c68-bde5-9c69d36984d2",
   "metadata": {},
   "source": [
    "### 贝叶斯分析\n"
   ]
  },
  {
   "cell_type": "code",
   "execution_count": 65,
   "id": "768716fa-0ff6-4db2-9edb-9d5cfcb2dab5",
   "metadata": {},
   "outputs": [
    {
     "name": "stdout",
     "output_type": "stream",
     "text": [
      "实验组转化率高于对照组的概率: 97.22%\n",
      "预期相对提升: 10.81%\n",
      "95%可信区间: [-0.29%, 22.68%]\n"
     ]
    },
    {
     "data": {
      "image/png": "[encoded data removed]",
      "text/plain": [
       "<Figure size 1200x600 with 1 Axes>"
      ]
     },
     "metadata": {},
     "output_type": "display_data"
    }
   ],
   "source": [
    "# from bayes import beta_proportion  # pip install bayesian-tests\n",
    "# beta_result = beta_proportion(c_num,c_total,t_num,t_total)\n",
    "\n",
    "# 贝叶斯分析 (使用Beta分布)\n",
    "# 设置先验 (无信息先验 Beta(1,1))\n",
    "a_prior, b_prior = 1, 1\n",
    "\n",
    "# 计算后验分布参数\n",
    "a_post_control = c_num + a_prior\n",
    "b_post_control = c_total - c_num + b_prior\n",
    "a_post_treatment = t_num + a_prior\n",
    "b_post_treatment = t_total - t_num + b_prior\n",
    "\n",
    "# 采样计算概率\n",
    "samples = 5000\n",
    "control_samples = stats.beta.rvs(a_post_control, b_post_control, size=samples)\n",
    "treatment_samples = stats.beta.rvs(a_post_treatment, b_post_treatment, size=samples)\n",
    "\n",
    "# 计算实验组优于对照组的概率\n",
    "prob_better = np.mean(treatment_samples > control_samples)\n",
    "\n",
    "# 计算相对提升\n",
    "relative_improvement = (treatment_samples / control_samples - 1) * 100  # 转换为百分比\n",
    "expected_relative_improvement = np.mean(relative_improvement)\n",
    "credible_interval = np.percentile(relative_improvement, [2.5, 97.5])\n",
    "\n",
    "# 输出结果\n",
    "print(f\"实验组转化率高于对照组的概率: {prob_better:.2%}\")\n",
    "print(f\"预期相对提升: {expected_relative_improvement:.2f}%\")\n",
    "print(f\"95%可信区间: [{credible_interval[0]:.2f}%, {credible_interval[1]:.2f}%]\")\n",
    "\n",
    "# 可视化后验分布\n",
    "plt.figure(figsize=(12, 6))\n",
    "x = np.linspace(0, 0.4, 1000)\n",
    "plt.plot(x, stats.beta.pdf(x, a_post_control, b_post_control), 'b-', label='control')\n",
    "plt.plot(x, stats.beta.pdf(x, a_post_treatment, b_post_treatment), 'r-', label='treatment')\n",
    "plt.axvline(c_num/c_total, color='blue', linestyle='--', alpha=0.5)\n",
    "plt.axvline(t_num/t_total, color='red', linestyle='--', alpha=0.5)\n",
    "plt.title('转化率的后验分布')\n",
    "plt.xlabel('CVR')\n",
    "plt.ylabel('密度')\n",
    "plt.legend()\n",
    "plt.grid(True, alpha=0.3)\n",
    "plt.show()\n"
   ]
  },
  {
   "cell_type": "markdown",
   "id": "f9581cd5-4998-455f-99e3-690a42fd806b",
   "metadata": {},
   "source": [
    "### 结果分析"
   ]
  },
  {
   "cell_type": "code",
   "execution_count": 39,
   "id": "2b4e0417-7c0a-4721-8a05-5b1bcda23f44",
   "metadata": {},
   "outputs": [
    {
     "name": "stdout",
     "output_type": "stream",
     "text": [
      "=== 基础数据 ===\n",
      "对照组: 转化数=582, 样本量=5000, 转化率=11.6400%\n",
      "实验组: 转化数=644, 样本量=5000, 转化率=12.8800%\n",
      "转化率差值: 1.2400%\n",
      "\n",
      "=== Z检验结果 ===\n",
      "Z统计量: -1.8904\n",
      "p值: 0.0587\n",
      "对照组95%置信区间: [11.6041%, 11.6810%]\n",
      "实验组95%置信区间: [12.8428%, 12.9222%]\n",
      "\n",
      "=== 卡方检验结果 ===\n",
      "卡方统计量: 3.4592\n",
      "p值: 0.0629\n",
      "自由度: 1\n",
      "期望频数表:\n",
      "[[ 613. 4387.]\n",
      " [ 613. 4387.]]\n",
      "\n",
      "=== Fisher精确检验结果 ===\n",
      "优势比: 0.8910\n",
      "p值: 0.0629\n",
      "\n",
      "=== 分析结论 ===\n",
      "根据Z检验、卡方检验和Fisher精确检验的结果，p值均大于0.05，\n",
      "无法拒绝原假设，认为实验组和对照组之间没有显著差异。\n",
      "虽然观察到实验组转化率为12.8800%，对照组为11.6400%，\n",
      "但这种差异可能是由随机因素引起的。\n"
     ]
    }
   ],
   "source": [
    "# 计算转化率\n",
    "c_rate = c_num / c_total\n",
    "t_rate = t_num / t_total\n",
    "rate_diff = t_rate - c_rate\n",
    "\n",
    "# 输出结果\n",
    "print(\"=== 基础数据 ===\")\n",
    "print(f\"对照组: 转化数={c_num}, 样本量={c_total}, 转化率={c_rate:.4%}\")\n",
    "print(f\"实验组: 转化数={t_num}, 样本量={t_total}, 转化率={t_rate:.4%}\")\n",
    "print(f\"转化率差值: {rate_diff:.4%}\")\n",
    "\n",
    "print(\"\\n=== Z检验结果 ===\")\n",
    "print(f\"Z统计量: {z_stats1:.4f}\")\n",
    "print(f\"p值: {p_val1:.4f}\")\n",
    "print(f\"对照组95%置信区间: [{lower_c:.4%}, {upper_c:.4%}]\")\n",
    "print(f\"实验组95%置信区间: [{lower_t:.4%}, {upper_t:.4%}]\")\n",
    "\n",
    "print(\"\\n=== 卡方检验结果 ===\")\n",
    "print(f\"卡方统计量: {chi2_stat:.4f}\")\n",
    "print(f\"p值: {chi_p:.4f}\")\n",
    "print(f\"自由度: {dof}\")\n",
    "print(\"期望频数表:\")\n",
    "print(expected)\n",
    "\n",
    "print(\"\\n=== Fisher精确检验结果 ===\")\n",
    "print(f\"优势比: {odds_ratio:.4f}\")\n",
    "print(f\"p值: {fisher_p:.4f}\")\n",
    "\n",
    "# 分析结论\n",
    "alpha = 0.05\n",
    "print(\"\\n=== 分析结论 ===\")\n",
    "if p_val1 < alpha and chi_p < alpha and fisher_p < alpha:\n",
    "    print(\"根据Z检验、卡方检验和Fisher精确检验的结果，p值均小于0.05，\")\n",
    "    print(\"可以拒绝原假设，认为实验组和对照组之间存在显著差异。\")\n",
    "    if t_rate > c_rate:\n",
    "        print(f\"实验组转化率({t_rate:.4%})显著高于对照组({c_rate:.4%})，建议采用实验组方案。\")\n",
    "    else:\n",
    "        print(f\"对照组转化率({c_rate:.4%})显著高于实验组({t_rate:.4%})，建议继续使用对照组方案。\")\n",
    "else:\n",
    "    print(\"根据Z检验、卡方检验和Fisher精确检验的结果，p值均大于0.05，\")\n",
    "    print(\"无法拒绝原假设，认为实验组和对照组之间没有显著差异。\")\n",
    "    print(f\"虽然观察到实验组转化率为{t_rate:.4%}，对照组为{c_rate:.4%}，\")\n",
    "    print(\"但这种差异可能是由随机因素引起的。\")"
   ]
  },
  {
   "cell_type": "code",
   "execution_count": null,
   "id": "4039f17b-2776-48a2-8943-192fee7ab5d5",
   "metadata": {},
   "outputs": [],
   "source": []
  }
 ],
 "metadata": {
  "kernelspec": {
   "display_name": "base",
   "language": "python",
   "name": "python3"
  },
  "language_info": {
   "codemirror_mode": {
    "name": "ipython",
    "version": 3
   },
   "file_extension": ".py",
   "mimetype": "text/x-python",
   "name": "python",
   "nbconvert_exporter": "python",
   "pygments_lexer": "ipython3",
   "version": "3.12.7"
  }
 },
 "nbformat": 4,
 "nbformat_minor": 5
}
